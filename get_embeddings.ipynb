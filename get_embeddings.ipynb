{
  "nbformat": 4,
  "nbformat_minor": 0,
  "metadata": {
    "colab": {
      "provenance": [],
      "gpuType": "T4",
      "include_colab_link": true
    },
    "kernelspec": {
      "name": "python3",
      "display_name": "Python 3"
    },
    "language_info": {
      "name": "python"
    },
    "accelerator": "GPU"
  },
  "cells": [
    {
      "cell_type": "markdown",
      "metadata": {
        "id": "view-in-github",
        "colab_type": "text"
      },
      "source": [
        "<a href=\"https://colab.research.google.com/github/vifirsanova/llm-dmt/blob/main/get_embeddings.ipynb\" target=\"_parent\"><img src=\"https://colab.research.google.com/assets/colab-badge.svg\" alt=\"Open In Colab\"/></a>"
      ]
    },
    {
      "cell_type": "code",
      "source": [
        "!python -m pip install -U angle-emb"
      ],
      "metadata": {
        "id": "wvxbCsTxzYQO"
      },
      "execution_count": null,
      "outputs": []
    },
    {
      "cell_type": "code",
      "execution_count": null,
      "metadata": {
        "id": "PCxBI59Sy1_4"
      },
      "outputs": [],
      "source": [
        "import torch\n",
        "from angle_emb import AnglE, Prompts\n",
        "from angle_emb.utils import cosine_similarity\n",
        "\n",
        "angle = AnglE.from_pretrained('NousResearch/Llama-2-7b-hf',\n",
        "                              pretrained_lora_path='SeanLee97/angle-llama-7b-nli-v2',\n",
        "                              pooling_strategy='last',\n",
        "                              is_llm=True,\n",
        "                              torch_dtype=torch.float16).cuda()"
      ]
    },
    {
      "cell_type": "code",
      "source": [
        "Prompts.list_prompts()\n",
        "\n",
        "doc_vec = angle.encode([\n",
        "    {'text': 'Most countries have systems.'}\n",
        "], prompt=Prompts.C)\n",
        "\n",
        "doc_vec"
      ],
      "metadata": {
        "id": "pNzosf75fNmr",
        "outputId": "021e85f3-69e6-4934-d525-6af9d3c64732",
        "colab": {
          "base_uri": "https://localhost:8080/"
        }
      },
      "execution_count": 9,
      "outputs": [
        {
          "output_type": "stream",
          "name": "stdout",
          "text": [
            "Prompts.A = 'Summarize sentence \"{text}\" in one word:\"'\n",
            "Prompts.B = 'You can only output one word. Summarize \"{text}\":\"'\n",
            "Prompts.C = 'Represent this sentence for searching relevant passages: {text}'\n"
          ]
        },
        {
          "output_type": "execute_result",
          "data": {
            "text/plain": [
              "array([[-0.77490234,  1.5683594 ,  3.5917969 , ...,  0.4736328 ,\n",
              "         2.0761719 ,  0.8618164 ]], dtype=float32)"
            ]
          },
          "metadata": {},
          "execution_count": 9
        }
      ]
    },
    {
      "cell_type": "code",
      "source": [],
      "metadata": {
        "id": "IKqc8DPmgGnM"
      },
      "execution_count": null,
      "outputs": []
    }
  ]
}